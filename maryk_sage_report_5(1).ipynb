{
 "cells": [
  {
   "cell_type": "markdown",
   "id": "897c4c01",
   "metadata": {},
   "source": [
    "# Report for 25th Oct 2022"
   ]
  },
  {
   "cell_type": "markdown",
   "id": "375697a6",
   "metadata": {},
   "source": [
    "# Today we are going to used this output to answer the questions below."
   ]
  },
  {
   "cell_type": "code",
   "execution_count": 6,
   "id": "efa34ee8",
   "metadata": {},
   "outputs": [
    {
     "data": {
      "text/plain": [
       "{0: [(0, 0)],\n",
       " 1: [(0, 1), (1, 0)],\n",
       " 2: [(1, 1)],\n",
       " 4: [(0, 2), (2, 0)],\n",
       " 5: [(1, 2), (2, 1)],\n",
       " 8: [(2, 2)],\n",
       " 9: [(0, 3), (3, 0)],\n",
       " 10: [(1, 3), (3, 1)],\n",
       " 13: [(2, 3), (3, 2)],\n",
       " 16: [(0, 4), (4, 0)],\n",
       " 17: [(1, 4), (4, 1)],\n",
       " 18: [(3, 3)],\n",
       " 20: [(2, 4), (4, 2)],\n",
       " 25: [(0, 5), (3, 4), (4, 3), (5, 0)],\n",
       " 26: [(1, 5), (5, 1)],\n",
       " 29: [(2, 5), (5, 2)],\n",
       " 32: [(4, 4)],\n",
       " 34: [(3, 5), (5, 3)],\n",
       " 36: [(0, 6), (6, 0)],\n",
       " 37: [(1, 6), (6, 1)],\n",
       " 40: [(2, 6), (6, 2)],\n",
       " 41: [(4, 5), (5, 4)],\n",
       " 45: [(3, 6), (6, 3)],\n",
       " 49: [(0, 7), (7, 0)],\n",
       " 50: [(1, 7), (5, 5), (7, 1)],\n",
       " 52: [(4, 6), (6, 4)],\n",
       " 53: [(2, 7), (7, 2)],\n",
       " 58: [(3, 7), (7, 3)],\n",
       " 61: [(5, 6), (6, 5)],\n",
       " 64: [(0, 8), (8, 0)],\n",
       " 65: [(1, 8), (4, 7), (7, 4), (8, 1)],\n",
       " 68: [(2, 8), (8, 2)],\n",
       " 72: [(6, 6)],\n",
       " 73: [(3, 8), (8, 3)],\n",
       " 74: [(5, 7), (7, 5)],\n",
       " 80: [(4, 8), (8, 4)],\n",
       " 81: [(0, 9), (9, 0)],\n",
       " 82: [(1, 9), (9, 1)],\n",
       " 85: [(2, 9), (6, 7), (7, 6), (9, 2)],\n",
       " 89: [(5, 8), (8, 5)],\n",
       " 90: [(3, 9), (9, 3)],\n",
       " 97: [(4, 9), (9, 4)],\n",
       " 98: [(7, 7)],\n",
       " 100: [(0, 10), (6, 8), (8, 6), (10, 0)]}"
      ]
     },
     "execution_count": 6,
     "metadata": {},
     "output_type": "execute_result"
    }
   ],
   "source": [
    "n=0#initializing the value of n\n",
    "dict={}\n",
    "while n<=100:# n ranges from 1 to 100 \n",
    "    lst=[]# initializing an empty list\n",
    "    for a in range(0,11):#range of a \n",
    "        for b in range(0,11):#range of b\n",
    "             if n==(a**2+b**2):\n",
    "                lst.append((a,b))\n",
    "                dict[n]=lst\n",
    "    n+=1\n",
    "dict"
   ]
  },
  {
   "cell_type": "markdown",
   "id": "6f286aa8",
   "metadata": {},
   "source": [
    "# Question1 which positive integers can be written as a sum of squares of its factors?"
   ]
  },
  {
   "cell_type": "markdown",
   "id": "8851ecea",
   "metadata": {},
   "source": [
    "20 =2^2+4^2\n",
    "\n",
    "2 and 4 are factors of 20 , therefore 20 can be written as the sum of square of its factors.\n",
    "90=3^2+9^2 we can observe that 3, 9 are both factors of 90\n"
   ]
  },
  {
   "cell_type": "markdown",
   "id": "7b9a8822",
   "metadata": {},
   "source": [
    "# Question 2  can there be a formular for expressing n as the sum of two positive square numbers \n",
    "\n",
    "I have not yet been able to come with this formula"
   ]
  },
  {
   "cell_type": "markdown",
   "id": "602b814d",
   "metadata": {},
   "source": [
    "# Question 3 which numbers  from 1 to 100 can be written as a sum of squares of 2 prime numbers?\n",
    "\n",
    "These numbers are 13,29,34,53 58,74, as illustrated below\n",
    "\n",
    "$13=2^2+3^2$ here 2 and 3 are prime numbers\n",
    "\n",
    "$29=2^2+5^2$ ,  2 and 5 are prime numbers\n",
    "\n",
    "$34=3^2+5^2$  , 3 and 5 are prime numbers\n",
    "\n",
    "$53=2^2+7^2$ ,  2 and 7 are prime numbers\n",
    "\n",
    "$58= 3^2+7^2$ ,  3 and 7 are prime numbers\n",
    "\n",
    "$74=5^2+7^2$ ,   5 and 7 are prime mumbers\n",
    "\n",
    "\n",
    "\n",
    "\n",
    "\n"
   ]
  },
  {
   "cell_type": "markdown",
   "id": "87a1ffd8",
   "metadata": {},
   "source": [
    "# Question 4 These numbers that can be written as a sum of two squares, are they odd or even?\n",
    "\n",
    "\n",
    "some are odd while others are even.\n",
    "\n",
    "for example1  29=2^2+5^2  29 is odd\n",
    "example 2  98=7^2+7^2 , 98 is evemn.\n"
   ]
  },
  {
   "cell_type": "markdown",
   "id": "f5c05412",
   "metadata": {},
   "source": [
    "# Question 5 Is the sum of squares even or odd?\n",
    "\n",
    "let the sum of squares be $a^2+b^2$\n",
    "\n",
    "if a is even and b even ,then $a^2+b^2$ will be even\n",
    "\n",
    "if a is odd and b odd then $a^2+b^2$ will be even\n",
    "\n",
    "if a is odd and b even then $a^2+b^2$ will be odd"
   ]
  },
  {
   "cell_type": "markdown",
   "id": "d5d0f12c",
   "metadata": {},
   "source": [
    "# Question 6 Given that $a$ and  $b$ are prime, is their some, $a^2+b^2$ prime?\n",
    "\n",
    "If a and b are both prime, then their sum can be either prime or not prime as illustrated below\n",
    "\n",
    " $29=2^2+5^2$,, 2 and 5 are both prime  and 29 is prime as well,,\n",
    " \n",
    " on the contrary,,\n",
    " \n",
    " $58=3^2+7^2$,, 2 and 7 are prime but 58 is not prime.\n",
    " \n",
    " "
   ]
  },
  {
   "cell_type": "markdown",
   "id": "e037e7c9",
   "metadata": {},
   "source": [
    "# Question 7 Can the square root of numbers be written in any other form aside from $x^2+0^2$?\n",
    "\n",
    "${25}=5^2+0^2$ for this there is another way to express 25 i.e $25=3^2+4^2$\n",
    "\n",
    "$64=8^2+0^2$ for this is no other way to express 64  \n",
    "\n",
    "$81=9^2+0^2$ for this there is no other way to expres 81\n",
    "\n",
    "$100=10^2+0^2$ 100 can also be expressed as $100=8^2+6^2$"
   ]
  },
  {
   "cell_type": "markdown",
   "id": "1b1bd19c",
   "metadata": {},
   "source": [
    "# Question 8 Is there more than one way to get the n, and if yes, what is the relationship between a,b and n\n",
    "\n",
    "n can be written in this form $n=a*x+b*y$\n",
    "\n",
    "where a ,b and n are positive integers.\n",
    "\n",
    "\n"
   ]
  },
  {
   "cell_type": "markdown",
   "id": "082f2ad7",
   "metadata": {},
   "source": []
  }
 ],
 "metadata": {
  "kernelspec": {
   "display_name": "SageMath 9.7",
   "language": "sage",
   "name": "sagemath"
  },
  "language_info": {
   "codemirror_mode": {
    "name": "ipython",
    "version": 3
   },
   "file_extension": ".py",
   "mimetype": "text/x-python",
   "name": "python",
   "nbconvert_exporter": "python",
   "pygments_lexer": "ipython3",
   "version": "3.9.2"
  }
 },
 "nbformat": 4,
 "nbformat_minor": 5
}
